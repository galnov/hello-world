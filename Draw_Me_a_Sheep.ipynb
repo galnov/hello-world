{
  "nbformat": 4,
  "nbformat_minor": 0,
  "metadata": {
    "colab": {
      "provenance": [],
      "authorship_tag": "ABX9TyMx53Gj1XB1GLb+8/xWAlVD",
      "include_colab_link": true
    },
    "kernelspec": {
      "name": "python3",
      "display_name": "Python 3"
    },
    "language_info": {
      "name": "python"
    }
  },
  "cells": [
    {
      "cell_type": "markdown",
      "metadata": {
        "id": "view-in-github",
        "colab_type": "text"
      },
      "source": [
        "<a href=\"https://colab.research.google.com/github/galnov/hello-world/blob/dataset/Draw_Me_a_Sheep.ipynb\" target=\"_parent\"><img src=\"https://colab.research.google.com/assets/colab-badge.svg\" alt=\"Open In Colab\"/></a>"
      ]
    },
    {
      "cell_type": "markdown",
      "source": [
        "In this notebook we'll generate an image using stability.ai's API.\n",
        "\n",
        "As a first step, please go to https://beta.dreamstudio.ai/account and copy your API key.\n",
        "\n",
        "Paste it as a secret in Google Colab with key name \"stability-ai-key\".\n",
        "\n",
        "Enable notebook access to key."
      ],
      "metadata": {
        "id": "xzFpVblWY6AP"
      }
    },
    {
      "cell_type": "code",
      "source": [
        "import requests\n",
        "import json\n",
        "import base64\n",
        "from uuid import uuid4\n",
        "from google.colab import userdata, files\n",
        "\n",
        "api_addr = 'https://api.stability.ai'\n",
        "api_key = userdata.get('stability-ai-key')"
      ],
      "metadata": {
        "id": "8U7mOB-HY6nB"
      },
      "execution_count": null,
      "outputs": []
    },
    {
      "cell_type": "markdown",
      "source": [
        "Code in the next cell will get the list of currently available stability.ai engines."
      ],
      "metadata": {
        "id": "EKFG1wM0yt3Y"
      }
    },
    {
      "cell_type": "code",
      "execution_count": null,
      "metadata": {
        "id": "GsvxF_noW-JD"
      },
      "outputs": [],
      "source": [
        "def getEnginesList():\n",
        "    url = f\"{api_addr}/v1/engines/list\"\n",
        "    response = requests.get(url, headers={\"Authorization\": f\"Bearer {api_key}\"})\n",
        "\n",
        "    if response.status_code == 200:\n",
        "      engines = json.loads(response.text)\n",
        "      #pretty_json = json.dumps(response.json(), indent=4)\n",
        "      #print(pretty_json)\n",
        "      return engines\n",
        "    else:\n",
        "      print(\"Error getting engines list: {}\".format(response.status_code))\n",
        "\n",
        "engines = getEnginesList()"
      ]
    },
    {
      "cell_type": "markdown",
      "source": [
        "Using the last engine, stability.ai will create 3 images based on the given prompt.\n",
        "\n",
        "Images can be accessed through Google Colab's Files section."
      ],
      "metadata": {
        "id": "rcuHKgNFzFYk"
      }
    },
    {
      "cell_type": "code",
      "source": [
        "engine_id = engines[-1]['id']\n",
        "#print(\"Engine ID: {}\".format(engine_id))\n",
        "\n",
        "my_uuid = uuid4()\n",
        "emotion = 'happy'\n",
        "prompt = '''Create a photorealistic high resolution headshot of a {} person.'''.format(emotion)\n",
        "height = 512\n",
        "width = 512\n",
        "steps = 50\n",
        "samples = 3\n",
        "\n",
        "def generateStableDiffusionImage(prompt, height, width, steps):\n",
        "    url = f\"{api_addr}/v1/generation/{engine_id}/text-to-image\"\n",
        "    headers = {\n",
        "    \"Content-Type\": \"application/json\",\n",
        "    \"Accept\": \"application/json\",\n",
        "    \"Authorization\": f\"Bearer {api_key}\"\n",
        "    }\n",
        "    payload = {}\n",
        "    payload['text_prompts'] = [{\"text\": f\"{prompt}\"}]\n",
        "    payload['cfg_scale'] = 7\n",
        "    payload['clip_guidance_preset'] = 'FAST_BLUE'\n",
        "    payload['height'] = height\n",
        "    payload['width'] = width\n",
        "    payload['samples'] = samples\n",
        "    payload['steps'] = steps\n",
        "\n",
        "    response = requests.post(url,headers=headers,json=payload)\n",
        "\n",
        "    #Processing the response\n",
        "    if response.status_code == 200:\n",
        "        data = response.json()\n",
        "        for i, image in enumerate(data[\"artifacts\"]):\n",
        "            with open(\"{}_{}_{}.png\".format(emotion,my_uuid,i), \"wb\") as f:\n",
        "                f.write(base64.b64decode(image[\"base64\"]))\n",
        "\n",
        "generateStableDiffusionImage(prompt, height, width, steps)"
      ],
      "metadata": {
        "id": "1cPLgl-YbSM2"
      },
      "execution_count": null,
      "outputs": []
    },
    {
      "cell_type": "markdown",
      "source": [
        "Next we'll download the images to our local disk, in order to add them to the dataset."
      ],
      "metadata": {
        "id": "C08t1uPjTosf"
      }
    },
    {
      "cell_type": "code",
      "source": [
        "for i in range(samples):\n",
        "  print(\"{}_{}_{}.png\".format(emotion,my_uuid,i))\n",
        "  files.download(\"{}_{}_{}.png\".format(emotion,my_uuid,i))"
      ],
      "metadata": {
        "id": "VlM4Xz4GL4FG"
      },
      "execution_count": null,
      "outputs": []
    }
  ]
}