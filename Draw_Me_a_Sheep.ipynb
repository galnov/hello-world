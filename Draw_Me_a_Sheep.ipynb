{
  "nbformat": 4,
  "nbformat_minor": 0,
  "metadata": {
    "colab": {
      "provenance": [],
      "authorship_tag": "ABX9TyN7dcdndfyQvzUL10I91/Tg",
      "include_colab_link": true
    },
    "kernelspec": {
      "name": "python3",
      "display_name": "Python 3"
    },
    "language_info": {
      "name": "python"
    }
  },
  "cells": [
    {
      "cell_type": "markdown",
      "metadata": {
        "id": "view-in-github",
        "colab_type": "text"
      },
      "source": [
        "<a href=\"https://colab.research.google.com/github/galnov/hello-world/blob/dataset/Draw_Me_a_Sheep.ipynb\" target=\"_parent\"><img src=\"https://colab.research.google.com/assets/colab-badge.svg\" alt=\"Open In Colab\"/></a>"
      ]
    },
    {
      "cell_type": "markdown",
      "source": [
        "In this notebook we'll generate an image using stability.ai's API.\n",
        "\n",
        "As a first step, please go to https://beta.dreamstudio.ai/account and copy your API key.\n",
        "\n",
        "Paste it as a secret in Google Colab with key name \"stability-ai-key\".\n",
        "\n",
        "Enable notebook access to key."
      ],
      "metadata": {
        "id": "xzFpVblWY6AP"
      }
    },
    {
      "cell_type": "code",
      "source": [
        "import requests\n",
        "import json\n",
        "import base64\n",
        "import zipfile\n",
        "from uuid import uuid4\n",
        "from google.colab import userdata, files\n",
        "\n",
        "api_addr = 'https://api.stability.ai'\n",
        "api_key = userdata.get('stability-ai-key')"
      ],
      "metadata": {
        "id": "8U7mOB-HY6nB"
      },
      "execution_count": 6,
      "outputs": []
    },
    {
      "cell_type": "markdown",
      "source": [
        "Code in the next cell will get the list of currently available stability.ai engines."
      ],
      "metadata": {
        "id": "EKFG1wM0yt3Y"
      }
    },
    {
      "cell_type": "code",
      "execution_count": 7,
      "metadata": {
        "id": "GsvxF_noW-JD"
      },
      "outputs": [],
      "source": [
        "def getEnginesList():\n",
        "    url = f\"{api_addr}/v1/engines/list\"\n",
        "    response = requests.get(url, headers={\"Authorization\": f\"Bearer {api_key}\"})\n",
        "\n",
        "    if response.status_code == 200:\n",
        "      engines = json.loads(response.text)\n",
        "      #pretty_json = json.dumps(response.json(), indent=4)\n",
        "      #print(pretty_json)\n",
        "      return engines\n",
        "    else:\n",
        "      print(\"Error getting engines list: {}\".format(response.status_code))\n",
        "\n",
        "engines = getEnginesList()"
      ]
    },
    {
      "cell_type": "markdown",
      "source": [
        "Using the last engine, stability.ai will create 3 images based on the given prompt.\n",
        "\n",
        "Images' names include the emotion expressed in them and a unique identifier to avoid conflicts on their addition to the dataset.\n",
        "\n",
        "They can be accessed through Google Colab's Files section."
      ],
      "metadata": {
        "id": "rcuHKgNFzFYk"
      }
    },
    {
      "cell_type": "code",
      "source": [
        "engine_id = engines[-1]['id']\n",
        "print(\"Engine ID: {}\".format(engine_id))\n",
        "\n",
        "my_uuid = uuid4()\n",
        "emotion = 'happy'\n",
        "prompt = '''Create a photorealistic high resolution headshot of a {} person.'''.format(emotion)\n",
        "height = 512\n",
        "width = 512\n",
        "steps = 50\n",
        "samples = 10\n",
        "\n",
        "def generateStableDiffusionImage(prompt, height, width, steps):\n",
        "    url = f\"{api_addr}/v1/generation/{engine_id}/text-to-image\"\n",
        "    headers = {\n",
        "    \"Content-Type\": \"application/json\",\n",
        "    \"Accept\": \"application/json\",\n",
        "    \"Authorization\": f\"Bearer {api_key}\"\n",
        "    }\n",
        "    payload = {}\n",
        "    payload['text_prompts'] = [{\"text\": f\"{prompt}\"}]\n",
        "    payload['cfg_scale'] = 7\n",
        "    payload['clip_guidance_preset'] = 'FAST_BLUE'\n",
        "    payload['height'] = height\n",
        "    payload['width'] = width\n",
        "    payload['samples'] = samples\n",
        "    payload['steps'] = steps\n",
        "\n",
        "    response = requests.post(url,headers=headers,json=payload)\n",
        "\n",
        "    #Processing the response\n",
        "    if response.status_code == 200:\n",
        "        data = response.json()\n",
        "        for i, image in enumerate(data[\"artifacts\"]):\n",
        "            with open(\"{}_{}_{}.png\".format(emotion,my_uuid,i), \"wb\") as f:\n",
        "                f.write(base64.b64decode(image[\"base64\"]))\n",
        "    else:\n",
        "      print(\"Error getting images: {}\".format(response.status_code))\n",
        "\n",
        "generateStableDiffusionImage(prompt, height, width, steps)"
      ],
      "metadata": {
        "id": "1cPLgl-YbSM2",
        "outputId": "7bf7b014-6015-4ba2-8786-84f6fa73dabc",
        "colab": {
          "base_uri": "https://localhost:8080/"
        }
      },
      "execution_count": 24,
      "outputs": [
        {
          "output_type": "stream",
          "name": "stdout",
          "text": [
            "Engine ID: stable-diffusion-xl-beta-v2-2-2\n"
          ]
        }
      ]
    },
    {
      "cell_type": "markdown",
      "source": [
        "Next we'll download the images to our local disk, in order to add them to the dataset."
      ],
      "metadata": {
        "id": "C08t1uPjTosf"
      }
    },
    {
      "cell_type": "code",
      "source": [
        "zipfile_name = \"images_{}_{}.zip\".format(emotion,my_uuid)\n",
        "\n",
        "with zipfile.ZipFile(zipfile_name, mode=\"w\") as archive:\n",
        "  for i in range(samples):\n",
        "    archive.write(\"{}_{}_{}.png\".format(emotion,my_uuid,i))\n",
        "\n",
        "files.download(zipfile_name)"
      ],
      "metadata": {
        "id": "VlM4Xz4GL4FG",
        "outputId": "e2fca852-748f-43d6-8596-2d1ad6307586",
        "colab": {
          "base_uri": "https://localhost:8080/",
          "height": 17
        }
      },
      "execution_count": 25,
      "outputs": [
        {
          "output_type": "display_data",
          "data": {
            "text/plain": [
              "<IPython.core.display.Javascript object>"
            ],
            "application/javascript": [
              "\n",
              "    async function download(id, filename, size) {\n",
              "      if (!google.colab.kernel.accessAllowed) {\n",
              "        return;\n",
              "      }\n",
              "      const div = document.createElement('div');\n",
              "      const label = document.createElement('label');\n",
              "      label.textContent = `Downloading \"${filename}\": `;\n",
              "      div.appendChild(label);\n",
              "      const progress = document.createElement('progress');\n",
              "      progress.max = size;\n",
              "      div.appendChild(progress);\n",
              "      document.body.appendChild(div);\n",
              "\n",
              "      const buffers = [];\n",
              "      let downloaded = 0;\n",
              "\n",
              "      const channel = await google.colab.kernel.comms.open(id);\n",
              "      // Send a message to notify the kernel that we're ready.\n",
              "      channel.send({})\n",
              "\n",
              "      for await (const message of channel.messages) {\n",
              "        // Send a message to notify the kernel that we're ready.\n",
              "        channel.send({})\n",
              "        if (message.buffers) {\n",
              "          for (const buffer of message.buffers) {\n",
              "            buffers.push(buffer);\n",
              "            downloaded += buffer.byteLength;\n",
              "            progress.value = downloaded;\n",
              "          }\n",
              "        }\n",
              "      }\n",
              "      const blob = new Blob(buffers, {type: 'application/binary'});\n",
              "      const a = document.createElement('a');\n",
              "      a.href = window.URL.createObjectURL(blob);\n",
              "      a.download = filename;\n",
              "      div.appendChild(a);\n",
              "      a.click();\n",
              "      div.remove();\n",
              "    }\n",
              "  "
            ]
          },
          "metadata": {}
        },
        {
          "output_type": "display_data",
          "data": {
            "text/plain": [
              "<IPython.core.display.Javascript object>"
            ],
            "application/javascript": [
              "download(\"download_52d3eafc-6772-419e-a7be-ee765715e6f2\", \"images_sad_c152f8bd-cca3-4c9f-b1f3-86493d5cd4b5.zip\", 3883087)"
            ]
          },
          "metadata": {}
        }
      ]
    }
  ]
}