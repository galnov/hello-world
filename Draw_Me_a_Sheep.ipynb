{
  "nbformat": 4,
  "nbformat_minor": 0,
  "metadata": {
    "colab": {
      "provenance": [],
      "authorship_tag": "ABX9TyOLNcKOEZALSmpK/HGFbcJk",
      "include_colab_link": true
    },
    "kernelspec": {
      "name": "python3",
      "display_name": "Python 3"
    },
    "language_info": {
      "name": "python"
    }
  },
  "cells": [
    {
      "cell_type": "markdown",
      "metadata": {
        "id": "view-in-github",
        "colab_type": "text"
      },
      "source": [
        "<a href=\"https://colab.research.google.com/github/galnov/hello-world/blob/main/Draw_Me_a_Sheep.ipynb\" target=\"_parent\"><img src=\"https://colab.research.google.com/assets/colab-badge.svg\" alt=\"Open In Colab\"/></a>"
      ]
    },
    {
      "cell_type": "markdown",
      "source": [
        "In this notebook we'll generate an image using stability.ai's API.\n",
        "\n",
        "As a first step, please go to https://beta.dreamstudio.ai/account and copy your API key.\n",
        "\n",
        "Paste it as a secret in Google Colab with key name \"stability-ai-key\".\n",
        "\n",
        "Enable notebook access to key."
      ],
      "metadata": {
        "id": "xzFpVblWY6AP"
      }
    },
    {
      "cell_type": "code",
      "source": [
        "import requests\n",
        "import json\n",
        "import base64\n",
        "from google.colab import userdata\n",
        "\n",
        "api_addr = 'https://api.stability.ai'\n",
        "api_key = userdata.get('stability-ai-key')"
      ],
      "metadata": {
        "id": "8U7mOB-HY6nB"
      },
      "execution_count": 1,
      "outputs": []
    },
    {
      "cell_type": "markdown",
      "source": [
        "Code in the next cell will get the list of currently available stability.ai engines."
      ],
      "metadata": {
        "id": "EKFG1wM0yt3Y"
      }
    },
    {
      "cell_type": "code",
      "execution_count": 2,
      "metadata": {
        "id": "GsvxF_noW-JD"
      },
      "outputs": [],
      "source": [
        "def getEnginesList():\n",
        "    url = f\"{api_addr}/v1/engines/list\"\n",
        "    response = requests.get(url, headers={\"Authorization\": f\"Bearer {api_key}\"})\n",
        "\n",
        "    if response.status_code == 200:\n",
        "      engines = json.loads(response.text)\n",
        "      #pretty_json = json.dumps(response.json(), indent=4)\n",
        "      #print(pretty_json)\n",
        "      return engines\n",
        "    else:\n",
        "      print(\"Error getting engines list: {}\".format(response.status_code))\n",
        "\n",
        "engines = getEnginesList()"
      ]
    },
    {
      "cell_type": "markdown",
      "source": [
        "Using the last engine, stability.ai will create 3 images based on the given prompt. Images can be accessed through Google Colab's Files section."
      ],
      "metadata": {
        "id": "rcuHKgNFzFYk"
      }
    },
    {
      "cell_type": "code",
      "source": [
        "engine_id = engines[-1]['id']\n",
        "#print(\"Engine ID: {}\".format(engine_id))\n",
        "\n",
        "prompt = '''Create a photorealistic high resolution image of an oil painting\n",
        "in which a robot artist stands in a room and draws an oil painting of itself\n",
        "drawing an image recursively. The painting will be drawn on canvas placed\n",
        "on a wooden stand.'''\n",
        "height = 512\n",
        "width = 512\n",
        "steps = 50\n",
        "\n",
        "def generateStableDiffusionImage(prompt, height, width, steps):\n",
        "    url = f\"{api_addr}/v1/generation/{engine_id}/text-to-image\"\n",
        "    headers = {\n",
        "    \"Content-Type\": \"application/json\",\n",
        "    \"Accept\": \"application/json\",\n",
        "    \"Authorization\": f\"Bearer {api_key}\"\n",
        "    }\n",
        "    payload = {}\n",
        "    payload['text_prompts'] = [{\"text\": f\"{prompt}\"}]\n",
        "    payload['cfg_scale'] = 7\n",
        "    payload['clip_guidance_preset'] = 'FAST_BLUE'\n",
        "    payload['height'] = height\n",
        "    payload['width'] = width\n",
        "    payload['samples'] = 3\n",
        "    payload['steps'] = steps\n",
        "\n",
        "    response = requests.post(url,headers=headers,json=payload)\n",
        "\n",
        "    #Processing the response\n",
        "    if response.status_code == 200:\n",
        "        data = response.json()\n",
        "        for i, image in enumerate(data[\"artifacts\"]):\n",
        "            with open(f\"v1_txt2img_{i}.png\", \"wb\") as f:\n",
        "                f.write(base64.b64decode(image[\"base64\"]))\n",
        "\n",
        "generateStableDiffusionImage(prompt, height, width, steps)"
      ],
      "metadata": {
        "id": "1cPLgl-YbSM2"
      },
      "execution_count": 3,
      "outputs": []
    }
  ]
}