{
  "nbformat": 4,
  "nbformat_minor": 0,
  "metadata": {
    "colab": {
      "provenance": [],
      "gpuType": "T4",
      "mount_file_id": "https://github.com/galnov/hello-world/blob/dataset/Binary_Image_Classifier.ipynb",
      "authorship_tag": "ABX9TyMJ1wAXV8544iahS2pfTF1w",
      "include_colab_link": true
    },
    "kernelspec": {
      "name": "python3",
      "display_name": "Python 3"
    },
    "language_info": {
      "name": "python"
    },
    "accelerator": "GPU"
  },
  "cells": [
    {
      "cell_type": "markdown",
      "metadata": {
        "id": "view-in-github",
        "colab_type": "text"
      },
      "source": [
        "<a href=\"https://colab.research.google.com/github/galnov/hello-world/blob/dataset/Binary_Image_Classifier.ipynb\" target=\"_parent\"><img src=\"https://colab.research.google.com/assets/colab-badge.svg\" alt=\"Open In Colab\"/></a>"
      ]
    },
    {
      "cell_type": "markdown",
      "source": [
        "In this notebook we'll create a binary image classifier, train it and use it to classify a given image"
      ],
      "metadata": {
        "id": "My9u4BsxAXxr"
      }
    },
    {
      "cell_type": "code",
      "source": [
        "import tensorflow as tf\n",
        "\n",
        "# Check if GPU is available\n",
        "physical_devices = tf.config.list_physical_devices('GPU')\n",
        "if len(physical_devices) == 0:\n",
        "    print(\"No GPU devices available. Training on CPU.\")\n",
        "else:\n",
        "    print(\"GPU is available. Training on GPU.\")"
      ],
      "metadata": {
        "id": "2Rqlmn4N_EWQ"
      },
      "execution_count": null,
      "outputs": []
    },
    {
      "cell_type": "code",
      "source": [
        "!pip install keras-facenet"
      ],
      "metadata": {
        "id": "c3kupFSj-U8J"
      },
      "execution_count": null,
      "outputs": []
    },
    {
      "cell_type": "markdown",
      "source": [
        "Creating the model"
      ],
      "metadata": {
        "id": "Z_yvQ2Pu_3kN"
      }
    },
    {
      "cell_type": "code",
      "source": [
        "import numpy as np\n",
        "import matplotlib.pyplot as plt\n",
        "from keras.layers import Dense, Flatten\n",
        "from keras.models import Model, load_model\n",
        "from keras.optimizers import Adam\n",
        "from keras.preprocessing.image import ImageDataGenerator\n",
        "from keras.utils import load_img, img_to_array\n",
        "from keras_facenet import FaceNet\n",
        "\n",
        "\n",
        "# Load the FaceNet model\n",
        "facenet = FaceNet()\n",
        "\n",
        "# Freeze the layers in the FaceNet model\n",
        "for layer in facenet.model.layers:\n",
        "    layer.trainable = False\n",
        "\n",
        "# Adding a binary classifier on top of the FaceNet model\n",
        "x = Flatten()(facenet.model.output)\n",
        "x = Dense(128, activation='relu')(x)\n",
        "output = Dense(1, activation='sigmoid')(x)\n",
        "\n",
        "# Create a new model\n",
        "model = Model(inputs=facenet.model.input, outputs=output)\n",
        "\n",
        "# Compile the model\n",
        "model.compile(optimizer=Adam(learning_rate=0.001), loss='binary_crossentropy',\n",
        "              metrics=['accuracy'])\n",
        "#model.summary()"
      ],
      "metadata": {
        "id": "bn8DeHzU5_6u"
      },
      "execution_count": null,
      "outputs": []
    },
    {
      "cell_type": "markdown",
      "source": [
        "Fetching training data"
      ],
      "metadata": {
        "id": "CBaPCjmE9j7T"
      }
    },
    {
      "cell_type": "code",
      "source": [
        "!git clone https://github.com/galnov/hello-world\n",
        "%cd hello-world\n",
        "# In case a specific branch is checked out, uncomment the next line\n",
        "#!git checkout <branch>"
      ],
      "metadata": {
        "id": "J18XrBTw9mSW"
      },
      "execution_count": null,
      "outputs": []
    },
    {
      "cell_type": "markdown",
      "source": [
        "Prepare the training and validation data"
      ],
      "metadata": {
        "id": "F2CfsHlbADMN"
      }
    },
    {
      "cell_type": "code",
      "execution_count": null,
      "metadata": {
        "id": "Sp4FRN_T-vQH"
      },
      "outputs": [],
      "source": [
        "# Set up data generators\n",
        "train_datagen = ImageDataGenerator(rescale=1./255, validation_split=0.25)\n",
        "\n",
        "train_generator = train_datagen.flow_from_directory(\n",
        "    'data',\n",
        "    target_size=(160, 160),\n",
        "    batch_size=4,\n",
        "    class_mode='binary',\n",
        "    subset='training'\n",
        ")\n",
        "\n",
        "validation_generator = train_datagen.flow_from_directory(\n",
        "    'data',\n",
        "    target_size=(160, 160),\n",
        "    batch_size=4,\n",
        "    class_mode='binary',\n",
        "    subset='validation'\n",
        ")\n",
        "\n",
        "# Get the mapping of class names to numerical labels\n",
        "class_indices = train_generator.class_indices\n",
        "\n",
        "# Print the mapping\n",
        "print(\"Class Indices:\", class_indices)"
      ]
    },
    {
      "cell_type": "markdown",
      "source": [
        "(Optional) View a train batch as a sanity check"
      ],
      "metadata": {
        "id": "RdBTU31TdEX8"
      }
    },
    {
      "cell_type": "code",
      "source": [
        "imgs, labels = next(train_generator)\n",
        "\n",
        "def plots(ims, figsize=(12,6), titles=None):\n",
        "    if type(ims[0]) is np.ndarray:\n",
        "        ims = np.array(ims)\n",
        "        if (ims.shape[-1] != 3):\n",
        "            ims = ims.transpose((0,2,3,1))\n",
        "    f = plt.figure(figsize=figsize)\n",
        "    cols = len(ims) if len(ims) % 2 == 0 else len(ims) + 1\n",
        "    for i in range(len(ims)):\n",
        "        sp = f.add_subplot(1, cols, i+1)\n",
        "        sp.axis('Off')\n",
        "        if titles is not None:\n",
        "            sp.set_title(titles[i], fontsize=16)\n",
        "        plt.imshow(ims[i])\n",
        "\n",
        "plots(imgs, titles=labels)"
      ],
      "metadata": {
        "id": "2g1tJf8NdFL_"
      },
      "execution_count": null,
      "outputs": []
    },
    {
      "cell_type": "markdown",
      "source": [
        "Train the model"
      ],
      "metadata": {
        "id": "I2M9IvzRSA3z"
      }
    },
    {
      "cell_type": "code",
      "source": [
        "# Train the model\n",
        "history = model.fit(\n",
        "    train_generator,\n",
        "    epochs=10,\n",
        "    validation_data=validation_generator\n",
        ")\n",
        "\n",
        "# Plot training history\n",
        "plt.plot(history.history['accuracy'], label='Training Accuracy')\n",
        "plt.plot(history.history['val_accuracy'], label='Validation Accuracy')\n",
        "plt.xlabel('Epoch')\n",
        "plt.ylabel('Accuracy')\n",
        "plt.legend()\n",
        "plt.show()\n",
        "\n",
        "# Save the trained model\n",
        "# model.save('image_classifier_model.h5')"
      ],
      "metadata": {
        "id": "73hkDNOxR_BA"
      },
      "execution_count": null,
      "outputs": []
    },
    {
      "cell_type": "markdown",
      "source": [
        "Running inference for emotion prediction"
      ],
      "metadata": {
        "id": "opH8Y2yAANUJ"
      }
    },
    {
      "cell_type": "code",
      "source": [
        "# Load the model for future use\n",
        "#model = load_model('image_classifier_model.h5')\n",
        "\n",
        "# Load and preprocess the new image for prediction\n",
        "img_path = '/content/hello-world/Gal_Novik.png'\n",
        "img = load_img(img_path, target_size=(160, 160))\n",
        "img_array = img_to_array(img) / 255.0\n",
        "plt.imshow(img_array)\n",
        "img_array = np.expand_dims(img_array, axis=0)\n",
        "\n",
        "# Make predictions\n",
        "predictions = model.predict(img_array)\n",
        "print(predictions)\n",
        "\n",
        "# Assuming binary classification, you can interpret the predictions\n",
        "# If the value is closer to 0, it belongs to the first class; if closer to 1,\n",
        "# it belongs to the second class\n",
        "if predictions[0][0] < 0.5:\n",
        "    print(\"Prediction: Happy\")\n",
        "else:\n",
        "    print(\"Prediction: Sad\")"
      ],
      "metadata": {
        "id": "UEW4JMDMAAg1"
      },
      "execution_count": null,
      "outputs": []
    }
  ]
}