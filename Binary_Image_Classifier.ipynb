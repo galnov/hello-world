{
  "nbformat": 4,
  "nbformat_minor": 0,
  "metadata": {
    "colab": {
      "provenance": [],
      "authorship_tag": "ABX9TyOxJUntFuHtjk8/fStC8sWT",
      "include_colab_link": true
    },
    "kernelspec": {
      "name": "python3",
      "display_name": "Python 3"
    },
    "language_info": {
      "name": "python"
    }
  },
  "cells": [
    {
      "cell_type": "markdown",
      "metadata": {
        "id": "view-in-github",
        "colab_type": "text"
      },
      "source": [
        "<a href=\"https://colab.research.google.com/github/galnov/hello-world/blob/dataset/Binary_Image_Classifier.ipynb\" target=\"_parent\"><img src=\"https://colab.research.google.com/assets/colab-badge.svg\" alt=\"Open In Colab\"/></a>"
      ]
    },
    {
      "cell_type": "markdown",
      "source": [
        "In this notebook we'll create a binary image classifier, train it and use it to classify a given image"
      ],
      "metadata": {
        "id": "My9u4BsxAXxr"
      }
    },
    {
      "cell_type": "code",
      "source": [
        "import tensorflow as tf\n",
        "from tensorflow.keras import layers, models\n",
        "from tensorflow.keras.preprocessing.image import ImageDataGenerator\n",
        "import matplotlib.pyplot as plt\n",
        "\n",
        "# Check if GPU is available\n",
        "physical_devices = tf.config.list_physical_devices('GPU')\n",
        "if len(physical_devices) == 0:\n",
        "    print(\"No GPU devices available. Training on CPU.\")\n",
        "else:\n",
        "    print(\"GPU is available. Training on GPU.\")"
      ],
      "metadata": {
        "id": "2Rqlmn4N_EWQ"
      },
      "execution_count": null,
      "outputs": []
    },
    {
      "cell_type": "code",
      "source": [
        "!pip install keras-facenet\n"
      ],
      "metadata": {
        "id": "c3kupFSj-U8J"
      },
      "execution_count": null,
      "outputs": []
    },
    {
      "cell_type": "markdown",
      "source": [
        "Creating the model"
      ],
      "metadata": {
        "id": "Z_yvQ2Pu_3kN"
      }
    },
    {
      "cell_type": "code",
      "source": [
        "import numpy as np\n",
        "from keras_facenet import FaceNet\n",
        "from keras.layers import Dense, Flatten\n",
        "from keras.models import Model\n",
        "from keras.optimizers import Adam\n",
        "from sklearn.model_selection import train_test_split\n",
        "\n",
        "# Load the FaceNet model\n",
        "facenet = FaceNet()\n",
        "\n",
        "# Freeze the layers in the FaceNet model\n",
        "for layer in facenet.model.layers:\n",
        "    layer.trainable = False\n",
        "\n",
        "# Adding a binary classifier on top of the FaceNet model\n",
        "x = Flatten()(facenet.model.output)\n",
        "x = Dense(128, activation='relu')(x)\n",
        "output = Dense(1, activation='sigmoid')(x)\n",
        "\n",
        "# Create a new model\n",
        "model = Model(inputs=facenet.model.input, outputs=output)\n",
        "\n",
        "# Compile the model\n",
        "model.compile(optimizer=Adam(learning_rate=0.001), loss='binary_crossentropy',\n",
        "              metrics=['accuracy'])\n",
        "#model.summary()"
      ],
      "metadata": {
        "id": "bn8DeHzU5_6u"
      },
      "execution_count": null,
      "outputs": []
    },
    {
      "cell_type": "markdown",
      "source": [
        "Uploading training data - run the following cell just once!"
      ],
      "metadata": {
        "id": "CBaPCjmE9j7T"
      }
    },
    {
      "cell_type": "code",
      "source": [
        "!git clone https://github.com/galnov/hello-world\n",
        "%cd hello-world\n",
        "!git checkout dataset"
      ],
      "metadata": {
        "id": "J18XrBTw9mSW"
      },
      "execution_count": null,
      "outputs": []
    },
    {
      "cell_type": "markdown",
      "source": [
        "Training"
      ],
      "metadata": {
        "id": "F2CfsHlbADMN"
      }
    },
    {
      "cell_type": "code",
      "execution_count": null,
      "metadata": {
        "id": "Sp4FRN_T-vQH"
      },
      "outputs": [],
      "source": [
        "# Set up data generators\n",
        "train_datagen = ImageDataGenerator(rescale=1./255, validation_split=0.2)\n",
        "\n",
        "train_generator = train_datagen.flow_from_directory(\n",
        "    'path/to/training_data',\n",
        "    target_size=(160, 160),\n",
        "    batch_size=32,\n",
        "    class_mode='binary',\n",
        "    subset='training'\n",
        ")\n",
        "\n",
        "validation_generator = train_datagen.flow_from_directory(\n",
        "    'path/to/training_data',\n",
        "    target_size=(160, 160),\n",
        "    batch_size=32,\n",
        "    class_mode='binary',\n",
        "    subset='validation'\n",
        ")\n",
        "\n",
        "# Train the model\n",
        "history = model.fit(\n",
        "    train_generator,\n",
        "    epochs=10,\n",
        "    validation_data=validation_generator\n",
        ")\n",
        "\n",
        "# Plot training history\n",
        "plt.plot(history.history['accuracy'], label='Training Accuracy')\n",
        "plt.plot(history.history['val_accuracy'], label='Validation Accuracy')\n",
        "plt.xlabel('Epoch')\n",
        "plt.ylabel('Accuracy')\n",
        "plt.legend()\n",
        "plt.show()\n",
        "\n",
        "# Save the trained model\n",
        "model.save('image_classifier_model.h5')"
      ]
    },
    {
      "cell_type": "markdown",
      "source": [
        "Loading the model and predicting"
      ],
      "metadata": {
        "id": "opH8Y2yAANUJ"
      }
    },
    {
      "cell_type": "code",
      "source": [
        "# Load the model for future use\n",
        "loaded_model = models.load_model('image_classifier_model.h5')\n",
        "\n",
        "# Now, you can use loaded_model.predict() to make predictions on new data.\n"
      ],
      "metadata": {
        "id": "UEW4JMDMAAg1"
      },
      "execution_count": null,
      "outputs": []
    }
  ]
}